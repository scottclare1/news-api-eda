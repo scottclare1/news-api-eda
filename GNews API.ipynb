{
 "cells": [
  {
   "cell_type": "markdown",
   "id": "f177b320",
   "metadata": {},
   "source": [
    "# SUMMARY\n",
    "\n",
    "## SOURCE: GNews API\n",
    "\n",
    "### Good:\n",
    "* Only API which returns the full article content\n",
    "* Good options for filtering and customising queries\n",
    "* Can search for keywords in titles, summaries and articles, allowing for filtering to human trafficking articles\n",
    "* Gives link to jpeg image associated with article - would be good for displaying alongside article in dashboard\n",
    "\n",
    "\n",
    "### Bad:\n",
    "* Doesn't provide a rank for each news source, and score for how relevant to your query it is.\n",
    "* \"Country\" field returned isn't accurate to the location the article is written about (e.g. bbc-news/us-and-canada articles classified as country=GB). It is the country of the publisher.\n",
    "* Possible multi-day lag behind article publish date?"
   ]
  },
  {
   "cell_type": "code",
   "execution_count": 63,
   "id": "848e3965",
   "metadata": {},
   "outputs": [],
   "source": [
    "import json\n",
    "import urllib.request\n",
    "from pprint import pprint"
   ]
  },
  {
   "cell_type": "code",
   "execution_count": 4,
   "id": "efea896b",
   "metadata": {},
   "outputs": [],
   "source": [
    "API_key = \"e3cc2c83c86979be51f685512b43974c\""
   ]
  },
  {
   "cell_type": "markdown",
   "id": "9b39ab7a",
   "metadata": {},
   "source": [
    "# SEARCH FIELDS"
   ]
  },
  {
   "cell_type": "markdown",
   "id": "3851ff40",
   "metadata": {},
   "source": [
    "* <b> q </b>\t- This parameter allows you to specify your search keywords to find the news articles you are looking for. The keywords will be used to return the most relevant articles. It is possible to use logical operators with keywords, see the section on query syntax.\n",
    "* <b> lang </b> - This parameter allows you to specify the language of the news articles returned by the API. You have to set as value the 2 letters code of the language you want to filter.\n",
    "* <b> country </b>\t-\tThis parameter allows you to specify the country where the news articles returned by the API were published, the contents of the articles are not necessarily related to the specified country. You have to set as value the 2 letters code of the country you want to filter.\n",
    "* <b> max </b>\t- This parameter allows you to specify the number of news articles returned by the API. The minimum value of this parameter is 1 and the maximum value is 100. The value you can set depends on your subscription.\n",
    "* <b> in </b> - (e.g. title,description) This parameter allows you to choose in which attributes the keywords are searched. The attributes that can be set are title, description and content. It is possible to combine several attributes by separating them with a comma.\n",
    "* <b> nullable </b> - This parameter allows you to specify the attributes that you allow to return null values. The attributes that can be set are title, description and content. It is possible to combine several attributes by separating them with a comma.\n",
    "* <b> from </b> - This parameter allows you to filter the articles that have a publication date greater than or equal to the specified value. \n",
    "* <b> to </b> - This parameter allows you to filter the articles that have a publication date smaller than or equal to the specified value. The date must respect the following format:\n",
    "* <b> sortby </b> - This parameter allows you to choose with which type of sorting the articles should be returned. \n",
    "* <b> page </b> - This parameter will only work if you have a paid subscription activated on your account.\n",
    "* <b> expand </b> - This parameter allows you to return in addition to other data, the full content of the articles. To get the full content of the articles, the parameter must be set to content"
   ]
  },
  {
   "cell_type": "markdown",
   "id": "a31dd6fd",
   "metadata": {},
   "source": [
    "# RETURNS FIELDS"
   ]
  },
  {
   "cell_type": "markdown",
   "id": "8ceacaa9",
   "metadata": {},
   "source": [
    "* <b> title </b> - The main title of the article.\n",
    "* <b> description </b> - The small paragraph under the title.\n",
    "* <b> content </b> - All the content of the article. The content is truncated if the expand parameter is not set.\n",
    "* <b> url </b> - The URL of the article.\n",
    "* <b> image </b> - The main image of the article.\n",
    "* <b> publishedAt </b> - The date of publication of the article. The date is always in the UTC time zone.\n",
    "* <b> source.name </b> - The name of the source.\n",
    "* <b> source.url </b> - The home page of the source."
   ]
  },
  {
   "cell_type": "markdown",
   "id": "645a5a85",
   "metadata": {},
   "source": [
    "# QUERY THE API FOR HUMAN TRAFFICKING RELATED ARTICLES"
   ]
  },
  {
   "cell_type": "code",
   "execution_count": 21,
   "id": "1c487172",
   "metadata": {},
   "outputs": [
    {
     "data": {
      "text/plain": [
       "'https://gnews.io/api/v4/search?q=\"Apple iPhone 13\" AND NOT \"Apple iPhone 14\"&token=e3cc2c83c86979be51f685512b43974c&lang=en&country=us&max=100'"
      ]
     },
     "execution_count": 21,
     "metadata": {},
     "output_type": "execute_result"
    }
   ],
   "source": [
    "url"
   ]
  },
  {
   "cell_type": "code",
   "execution_count": 53,
   "id": "1a099490",
   "metadata": {},
   "outputs": [
    {
     "data": {
      "text/plain": [
       "'\"human%20trafficking\"%20OR%20\"modern%20slavery\"%20OR%20\"sexual%20exploitation\"%20OR%20\"trafficking\"%20OR%20\"domestic%20servitude\"%20OR%20\"forced%20labour\"%20OR%20\"debt%20bondage\"%20OR%20\"forced%20begging\"%20OR%20\"forced%20marriage\"'"
      ]
     },
     "execution_count": 53,
     "metadata": {},
     "output_type": "execute_result"
    }
   ],
   "source": [
    "keywords = [\n",
    "    \"human trafficking\", \"modern slavery\", \"sexual exploitation\", \"trafficking\", \"domestic servitude\",\n",
    "    \"forced labour\", \"debt bondage\", \"forced begging\", \"forced marriage\", #\"organ removal\"\n",
    "]\n",
    "\n",
    "query = '\"' + '\" OR \"'.join(keywords) + '\"'\n",
    "query = query.replace(\" \", \"%20\")\n",
    "query"
   ]
  },
  {
   "cell_type": "code",
   "execution_count": 54,
   "id": "84776e27",
   "metadata": {},
   "outputs": [
    {
     "data": {
      "text/plain": [
       "'https://gnews.io/api/v4/search?q=\"human%20trafficking\"%20OR%20\"modern%20slavery\"%20OR%20\"sexual%20exploitation\"%20OR%20\"trafficking\"%20OR%20\"domestic%20servitude\"%20OR%20\"forced%20labour\"%20OR%20\"debt%20bondage\"%20OR%20\"forced%20begging\"%20OR%20\"forced%20marriage\"&token=e3cc2c83c86979be51f685512b43974c&lang=en&country=us&max=100'"
      ]
     },
     "execution_count": 54,
     "metadata": {},
     "output_type": "execute_result"
    }
   ],
   "source": [
    "url = (\n",
    "    f\"https://gnews.io/api/v4/search?\"\n",
    "    f'q={query}&'\n",
    "    f\"token={API_key}&\"\n",
    "    \"lang=en&\"\n",
    "    \"country=us&\"\n",
    "    \"max=100\"\n",
    ")\n",
    "\n",
    "url"
   ]
  },
  {
   "cell_type": "code",
   "execution_count": 55,
   "id": "c657ce78",
   "metadata": {},
   "outputs": [],
   "source": [
    "with urllib.request.urlopen(url) as response:\n",
    "    data = json.loads(response.read().decode(\"utf-8\"))"
   ]
  },
  {
   "cell_type": "code",
   "execution_count": 56,
   "id": "87c0309d",
   "metadata": {},
   "outputs": [
    {
     "data": {
      "text/plain": [
       "{'totalArticles': 2982,\n",
       " 'articles': [{'title': '‘Doc’ Antle wildlife trafficking trial delayed until June 2023',\n",
       "   'description': 'The trial for the Myrtle Beach man made famous in the Netflix series, “Tiger King” scheduled to begin Monday in Virginia is delayed. Again.',\n",
       "   'content': 'MYRTLE BEACH, S.C. (WMBF) - The trial for the Myrtle Beach man made famous in the Netflix series, “Tiger King” scheduled to begin Monday in Virginia is delayed. Again.\\nThe Frederick County Circuit Court confirmed the trial is rescheduled for June 12 ... [964 chars]',\n",
       "   'url': 'https://www.wistv.com/2022/10/31/doc-antle-wildlife-trafficking-trial-delayed-until-june-2023/',\n",
       "   'image': 'https://gray-wistv-prod.cdn.arcpublishing.com/resizer/lV73Ott2ShVZIN94OEjBV1tIRL4=/1200x600/smart/filters:quality(85)/cloudfront-us-east-1.images.arcpublishing.com/gray/DTE6VVGXOJD3NLDME5FAJFYT4A.png',\n",
       "   'publishedAt': '2022-10-31T04:00:00Z',\n",
       "   'source': {'name': 'WIS10', 'url': 'https://www.wistv.com'}},\n",
       "  {'title': 'Ghislaine Maxwell seen laughing, jogging on Florida prison track',\n",
       "   'description': 'Notorious sex-trafficking madam Ghislaine Maxwell was filmed enjoying a morning jog in her low-security prison -- laughing hysterically with a pal in the Florida sunshine.',\n",
       "   'content': 'Ghislaine Maxwell is back on the run — but this time safely behind bars.\\nThe notorious sex-trafficking madam for late pedophile Jeffrey Epstein was filmed enjoying a morning jog in her low-security prison — laughing hysterically with a pal in the Flo... [4901 chars]',\n",
       "   'url': 'https://nypost.com/2022/10/28/ghislaine-maxwell-seen-laughing-jogging-on-florida-prison-track/',\n",
       "   'image': 'https://nypost.com/wp-content/uploads/sites/2/2022/10/ghislaine-maxwell-running-prison-comp-1.jpg?quality=75&strip=all&w=1024',\n",
       "   'publishedAt': '2022-10-28T16:56:27Z',\n",
       "   'source': {'name': 'New York Post', 'url': 'https://nypost.com'}},\n",
       "  {'title': 'Boston man charged after allegedly sex trafficking a 17-year-old girl he met on social media',\n",
       "   'description': 'A Boston man was charged Thursday for allegedly sex trafficking a 17-year-old girl he met on social media.',\n",
       "   'content': 'Crime Boston man charged after allegedly sex trafficking a 17-year-old girl he met on social media Jimall Brown has been charged with one count of sex trafficking a minor.\\nA Boston man was charged Thursday for allegedly sex trafficking a 17-year-old ... [1727 chars]',\n",
       "   'url': 'https://www.boston.com/news/crime/2022/10/27/boston-man-charged-sex-trafficking-teen-girl-social-media-jimall-brown/',\n",
       "   'image': 'https://bdc2020.o0bc.com/wp-content/uploads/2021/06/BDC_Logo_2020_256x256-60d0abc34135e.png',\n",
       "   'publishedAt': '2022-10-28T02:09:28Z',\n",
       "   'source': {'name': 'Boston.com', 'url': 'https://www.boston.com'}},\n",
       "  {'title': 'Missing girl, 16, shot dead in Florida linked to trafficking',\n",
       "   'description': \"De'Shayla Ferguson, 16, was found shot dead outside a home in Orlando Monday, two months after she escaped from a Department of Children and Families office ahead of a scheduled court appearance,\",\n",
       "   'content': 'A 16-year-old girl who had been missing since August was found shot dead outside an Orlando home this week, with cops saying she was tied to a human trafficking case.\\nDe’Shayla Ferguson was just 15 when she ran away from a Department of Children and ... [1710 chars]',\n",
       "   'url': 'https://nypost.com/2022/10/27/missing-girl-16-shot-dead-in-florida-linked-to-trafficking/',\n",
       "   'image': 'https://nypost.com/wp-content/uploads/sites/2/2022/10/missing-girl-found-comp.jpg?quality=75&strip=all&w=1024',\n",
       "   'publishedAt': '2022-10-27T19:22:41Z',\n",
       "   'source': {'name': 'New York Post', 'url': 'https://nypost.com'}},\n",
       "  {'title': 'Boston man, 33, arrested on charge of sex trafficking 17-year-old girl after allegedly luring her to city',\n",
       "   'description': \"Jimall Dawn Brown made his initial appearance in US District Court in Boston Thursday afternoon. He was ordered held on a charge of sex trafficking of a minor, pending a hearing scheduled for Nov. 3, the US attorney's office said.\",\n",
       "   'content': 'Brown was held pending a detention and a probable cause hearing slated for noon on Nov. 3, according to DiIorio-Sterling.\\nJimall Dawn Brown, 33, was arrested on a sole count of sex trafficking of a minor and made his initial appearance in US District... [2156 chars]',\n",
       "   'url': 'https://www.bostonglobe.com/2022/10/27/metro/boston-man-33-arrested-charge-sex-trafficking-17-year-old-girl-after-allegedly-luring-her-city/',\n",
       "   'image': 'https://www.bostonglobe.com/pf/resources/images/logo-bg.jpg?d=365',\n",
       "   'publishedAt': '2022-10-27T04:00:00Z',\n",
       "   'source': {'name': 'The Boston Globe',\n",
       "    'url': 'https://www.bostonglobe.com'}},\n",
       "  {'title': 'Vermont driver arrested for multiple drug trafficking offenses after speeding through Greenfield',\n",
       "   'description': 'Brendon Lee, 39, of Milton, Vt., was arraigned in Greenfield District Court on charges of trafficking in cocaine, trafficking in fentanyl, unlicensed operation of a motor vehicle and speeding, State Police said in a statement.',\n",
       "   'content': 'Lee was allegedly driving over the posted speed limit in a grey sedan on Interstate 91 northbound when troopers conducted a traffic stop at 8:25 a.m., according to the statement.\\nBrendon Lee, 39, of Milton, Vt., was arraigned in Greenfield District C... [1306 chars]',\n",
       "   'url': 'https://www.bostonglobe.com/2022/10/27/metro/vermont-driver-arrested-multiple-drug-trafficking-offenses-after-speeding-through-greenfield/',\n",
       "   'image': 'https://bostonglobe-prod.cdn.arcpublishing.com/resizer/9lzd9Zurk1a4OAnuvtF3xjNzuug=/506x0/cloudfront-us-east-1.images.arcpublishing.com/bostonglobe/PQMASGSV4BAYJPLVD44SX22QOM.png',\n",
       "   'publishedAt': '2022-10-27T04:00:00Z',\n",
       "   'source': {'name': 'The Boston Globe',\n",
       "    'url': 'https://www.bostonglobe.com'}},\n",
       "  {'title': \"Convicted Rochester 'Drug Kingpin' Returning to Prison\",\n",
       "   'description': 'He was the leader of a major drug trafficking ring that brought drugs to Rochester from Chicago in the 1990s.',\n",
       "   'content': 'Rochester, MN (KROC-AM News) - A Rochester man who was sent to prison two decades ago for being the ringleader of a major drug trafficking operation is headed back to prison.\\n65-year-old Anthony Osborne Senior was given a five-year prison sentence to... [1313 chars]',\n",
       "   'url': 'https://kdhlradio.com/ixp/669/p/convicted-rochester-drug-kingpin-returning-to-prison/',\n",
       "   'image': 'https://townsquare.media/site/669/files/2021/08/attachment-Osborne.jpg?w=1200&h=0&zc=1&s=0&a=t&q=89',\n",
       "   'publishedAt': '2022-10-27T04:00:00Z',\n",
       "   'source': {'name': 'kdhlradio.com', 'url': 'https://kdhlradio.com'}},\n",
       "  {'title': '23 charged with drug trafficking, over 74,000 counterfeit pills seized in North Shore bust, federal authorities say',\n",
       "   'description': 'Authorities allege the distribution network was headed by brothers Lawrence Michael Nagle, 32, of Saugus and Christopher Nagle, 28, of Revere, according to the department of justice.',\n",
       "   'content': 'The Nagle brothers are accused of distributing large quantities of various drugs across the North Shore, including pharmaceutical-grade and counterfeit Adderall and Oxycodone pills, as well as Xanax, methamphetamine, cocaine, and marijuana, according... [2978 chars]',\n",
       "   'url': 'https://www.bostonglobe.com/2022/10/26/metro/23-charged-with-drug-trafficking-over-74000-counterfeit-pills-seized-north-shore-bust-federal-authorities-say/',\n",
       "   'image': 'https://www.bostonglobe.com/pf/resources/images/logo-bg.jpg?d=365',\n",
       "   'publishedAt': '2022-10-26T04:00:00Z',\n",
       "   'source': {'name': 'The Boston Globe',\n",
       "    'url': 'https://www.bostonglobe.com'}},\n",
       "  {'title': 'Salisbury Woman Sentenced to 17 Years for Sexual Exploitation of Infant',\n",
       "   'description': 'Desiree Daigle, 26, of Salisbury, was sentenced to 17 years in prison and five years of supervised release after pleading guilty to sexually exploiting an...',\n",
       "   'content': 'A Massachusetts woman who pleaded guilty to sexually exploiting an infant in her care has been sentenced to 17 years in prison.\\nThe office of U.S. Attorney Rachael Rollins said Monday that 26-year-old Desiree Daigle of Salisbury had received the sent... [1642 chars]',\n",
       "   'url': 'https://www.nbcboston.com/news/local/salisbury-woman-sentenced-to-17-years-for-sexual-exploitation-of-infant/2872297/',\n",
       "   'image': 'https://media.nbcboston.com/2022/05/GettyImages-sb10062143p-001-e1652885349359.jpg?quality=85&strip=all&resize=1200%2C675',\n",
       "   'publishedAt': '2022-10-24T23:47:45Z',\n",
       "   'source': {'name': 'NBC10 Boston', 'url': 'https://www.nbcboston.com'}},\n",
       "  {'title': 'Blac Chyna sends legal letter to Ava Louise over trafficking claims',\n",
       "   'description': 'Blac Chyna sent TikTok star Ava Louise a cease-and-desist letter over her videos that claimed Chyna held her hostage and tried to sex traffic her.',\n",
       "   'content': 'Click to email a link to a friend (Opens in new window)\\nClick to share on Twitter (Opens in new window)\\nClick to share on Facebook (Opens in new window)\\nBlac Chyna — whose real name is Angela Renée White — has fired off a cease-and-desist to a TikTok... [1667 chars]',\n",
       "   'url': 'https://pagesix.com/2022/10/24/blac-chyna-sends-legal-letter-to-ava-louise-over-trafficking-claims/',\n",
       "   'image': 'https://pagesix.com/wp-content/uploads/sites/3/2022/10/blac-chyna-ava-louise-21.jpg?quality=75&strip=all&w=1200',\n",
       "   'publishedAt': '2022-10-24T19:19:43Z',\n",
       "   'source': {'name': 'Page Six', 'url': 'https://pagesix.com'}}]}"
      ]
     },
     "execution_count": 56,
     "metadata": {},
     "output_type": "execute_result"
    }
   ],
   "source": [
    "data"
   ]
  },
  {
   "cell_type": "code",
   "execution_count": 64,
   "id": "41afabc6",
   "metadata": {},
   "outputs": [
    {
     "name": "stdout",
     "output_type": "stream",
     "text": [
      "{'content': 'MYRTLE BEACH, S.C. (WMBF) - The trial for the Myrtle Beach man '\n",
      "            'made famous in the Netflix series, “Tiger King” scheduled to '\n",
      "            'begin Monday in Virginia is delayed. Again.\\n'\n",
      "            'The Frederick County Circuit Court confirmed the trial is '\n",
      "            'rescheduled for June 12 ... [964 chars]',\n",
      " 'description': 'The trial for the Myrtle Beach man made famous in the Netflix '\n",
      "                'series, “Tiger King” scheduled to begin Monday in Virginia is '\n",
      "                'delayed. Again.',\n",
      " 'image': 'https://gray-wistv-prod.cdn.arcpublishing.com/resizer/lV73Ott2ShVZIN94OEjBV1tIRL4=/1200x600/smart/filters:quality(85)/cloudfront-us-east-1.images.arcpublishing.com/gray/DTE6VVGXOJD3NLDME5FAJFYT4A.png',\n",
      " 'publishedAt': '2022-10-31T04:00:00Z',\n",
      " 'source': {'name': 'WIS10', 'url': 'https://www.wistv.com'},\n",
      " 'title': '‘Doc’ Antle wildlife trafficking trial delayed until June 2023',\n",
      " 'url': 'https://www.wistv.com/2022/10/31/doc-antle-wildlife-trafficking-trial-delayed-until-june-2023/'}\n"
     ]
    }
   ],
   "source": [
    "articles = data[\"articles\"]\n",
    "\n",
    "pprint(articles[0])"
   ]
  },
  {
   "cell_type": "code",
   "execution_count": 61,
   "id": "cc6a56a7",
   "metadata": {
    "scrolled": true
   },
   "outputs": [
    {
     "name": "stdout",
     "output_type": "stream",
     "text": [
      "==================================================================================================================\n",
      "\n",
      "Title: ‘Doc’ Antle wildlife trafficking trial delayed until June 2023\n",
      "\n",
      "Description: The trial for the Myrtle Beach man made famous in the Netflix series, “Tiger King” scheduled to begin Monday in Virginia is delayed. Again.\n",
      "\n",
      "Content: MYRTLE BEACH, S.C. (WMBF) - The trial for the Myrtle Beach man made famous in the Netflix series, “Tiger King” scheduled to begin Monday in Virginia is delayed. Again.\n",
      "The Frederick County Circuit Court confirmed the trial is rescheduled for June 12 ... [964 chars]\n",
      "\n",
      "==================================================================================================================\n",
      "\n",
      "Title: Ghislaine Maxwell seen laughing, jogging on Florida prison track\n",
      "\n",
      "Description: Notorious sex-trafficking madam Ghislaine Maxwell was filmed enjoying a morning jog in her low-security prison -- laughing hysterically with a pal in the Florida sunshine.\n",
      "\n",
      "Content: Ghislaine Maxwell is back on the run — but this time safely behind bars.\n",
      "The notorious sex-trafficking madam for late pedophile Jeffrey Epstein was filmed enjoying a morning jog in her low-security prison — laughing hysterically with a pal in the Flo... [4901 chars]\n",
      "\n",
      "==================================================================================================================\n",
      "\n",
      "Title: Boston man charged after allegedly sex trafficking a 17-year-old girl he met on social media\n",
      "\n",
      "Description: A Boston man was charged Thursday for allegedly sex trafficking a 17-year-old girl he met on social media.\n",
      "\n",
      "Content: Crime Boston man charged after allegedly sex trafficking a 17-year-old girl he met on social media Jimall Brown has been charged with one count of sex trafficking a minor.\n",
      "A Boston man was charged Thursday for allegedly sex trafficking a 17-year-old ... [1727 chars]\n",
      "\n",
      "==================================================================================================================\n",
      "\n",
      "Title: Missing girl, 16, shot dead in Florida linked to trafficking\n",
      "\n",
      "Description: De'Shayla Ferguson, 16, was found shot dead outside a home in Orlando Monday, two months after she escaped from a Department of Children and Families office ahead of a scheduled court appearance,\n",
      "\n",
      "Content: A 16-year-old girl who had been missing since August was found shot dead outside an Orlando home this week, with cops saying she was tied to a human trafficking case.\n",
      "De’Shayla Ferguson was just 15 when she ran away from a Department of Children and ... [1710 chars]\n",
      "\n",
      "==================================================================================================================\n",
      "\n",
      "Title: Boston man, 33, arrested on charge of sex trafficking 17-year-old girl after allegedly luring her to city\n",
      "\n",
      "Description: Jimall Dawn Brown made his initial appearance in US District Court in Boston Thursday afternoon. He was ordered held on a charge of sex trafficking of a minor, pending a hearing scheduled for Nov. 3, the US attorney's office said.\n",
      "\n",
      "Content: Brown was held pending a detention and a probable cause hearing slated for noon on Nov. 3, according to DiIorio-Sterling.\n",
      "Jimall Dawn Brown, 33, was arrested on a sole count of sex trafficking of a minor and made his initial appearance in US District... [2156 chars]\n",
      "\n",
      "==================================================================================================================\n",
      "\n",
      "Title: Vermont driver arrested for multiple drug trafficking offenses after speeding through Greenfield\n",
      "\n",
      "Description: Brendon Lee, 39, of Milton, Vt., was arraigned in Greenfield District Court on charges of trafficking in cocaine, trafficking in fentanyl, unlicensed operation of a motor vehicle and speeding, State Police said in a statement.\n",
      "\n",
      "Content: Lee was allegedly driving over the posted speed limit in a grey sedan on Interstate 91 northbound when troopers conducted a traffic stop at 8:25 a.m., according to the statement.\n",
      "Brendon Lee, 39, of Milton, Vt., was arraigned in Greenfield District C... [1306 chars]\n",
      "\n",
      "==================================================================================================================\n",
      "\n",
      "Title: Convicted Rochester 'Drug Kingpin' Returning to Prison\n",
      "\n",
      "Description: He was the leader of a major drug trafficking ring that brought drugs to Rochester from Chicago in the 1990s.\n",
      "\n",
      "Content: Rochester, MN (KROC-AM News) - A Rochester man who was sent to prison two decades ago for being the ringleader of a major drug trafficking operation is headed back to prison.\n",
      "65-year-old Anthony Osborne Senior was given a five-year prison sentence to... [1313 chars]\n",
      "\n",
      "==================================================================================================================\n",
      "\n",
      "Title: 23 charged with drug trafficking, over 74,000 counterfeit pills seized in North Shore bust, federal authorities say\n",
      "\n",
      "Description: Authorities allege the distribution network was headed by brothers Lawrence Michael Nagle, 32, of Saugus and Christopher Nagle, 28, of Revere, according to the department of justice.\n",
      "\n",
      "Content: The Nagle brothers are accused of distributing large quantities of various drugs across the North Shore, including pharmaceutical-grade and counterfeit Adderall and Oxycodone pills, as well as Xanax, methamphetamine, cocaine, and marijuana, according... [2978 chars]\n",
      "\n",
      "==================================================================================================================\n",
      "\n",
      "Title: Salisbury Woman Sentenced to 17 Years for Sexual Exploitation of Infant\n",
      "\n",
      "Description: Desiree Daigle, 26, of Salisbury, was sentenced to 17 years in prison and five years of supervised release after pleading guilty to sexually exploiting an...\n",
      "\n",
      "Content: A Massachusetts woman who pleaded guilty to sexually exploiting an infant in her care has been sentenced to 17 years in prison.\n",
      "The office of U.S. Attorney Rachael Rollins said Monday that 26-year-old Desiree Daigle of Salisbury had received the sent... [1642 chars]\n",
      "\n",
      "==================================================================================================================\n",
      "\n",
      "Title: Blac Chyna sends legal letter to Ava Louise over trafficking claims\n",
      "\n",
      "Description: Blac Chyna sent TikTok star Ava Louise a cease-and-desist letter over her videos that claimed Chyna held her hostage and tried to sex traffic her.\n",
      "\n",
      "Content: Click to email a link to a friend (Opens in new window)\n",
      "Click to share on Twitter (Opens in new window)\n",
      "Click to share on Facebook (Opens in new window)\n",
      "Blac Chyna — whose real name is Angela Renée White — has fired off a cease-and-desist to a TikTok... [1667 chars]\n",
      "\n"
     ]
    }
   ],
   "source": [
    "for i in range(len(articles)):\n",
    "    print(\"===================================================================================================================\")\n",
    "    print()\n",
    "    print(f\"Title: {articles[i]['title']}\")\n",
    "    print()\n",
    "    print(f\"Description: {articles[i]['description']}\")\n",
    "    print()\n",
    "    print(f\"Content: {articles[i]['content']}\")\n",
    "    print()"
   ]
  },
  {
   "cell_type": "markdown",
   "id": "db4c0c63",
   "metadata": {},
   "source": [
    "# GEOGRAPHICAL COVERAGE OF ARTICLES"
   ]
  },
  {
   "cell_type": "markdown",
   "id": "c95e4fc4",
   "metadata": {},
   "source": [
    "### 773 from UK vs. 2982 from US"
   ]
  },
  {
   "cell_type": "code",
   "execution_count": 76,
   "id": "2e0dbc35",
   "metadata": {},
   "outputs": [
    {
     "data": {
      "text/plain": [
       "'https://gnews.io/api/v4/search?q=\"human%20trafficking\"%20OR%20\"modern%20slavery\"%20OR%20\"sexual%20exploitation\"%20OR%20\"trafficking\"%20OR%20\"domestic%20servitude\"%20OR%20\"forced%20labour\"%20OR%20\"debt%20bondage\"%20OR%20\"forced%20begging\"%20OR%20\"forced%20marriage\"&token=e3cc2c83c86979be51f685512b43974c&lang=en&country=gb&max=100&'"
      ]
     },
     "execution_count": 76,
     "metadata": {},
     "output_type": "execute_result"
    }
   ],
   "source": [
    "url = (\n",
    "    f\"https://gnews.io/api/v4/search?\"\n",
    "    f'q={query}&'\n",
    "    f\"token={API_key}&\"\n",
    "    \"lang=en&\"\n",
    "    \"country=gb&\"\n",
    "    \"max=100&\"\n",
    ")\n",
    "\n",
    "url"
   ]
  },
  {
   "cell_type": "code",
   "execution_count": 77,
   "id": "ec75026f",
   "metadata": {},
   "outputs": [],
   "source": [
    "with urllib.request.urlopen(url) as response:\n",
    "    data = json.loads(response.read().decode(\"utf-8\"))"
   ]
  },
  {
   "cell_type": "code",
   "execution_count": 78,
   "id": "6aa36006",
   "metadata": {},
   "outputs": [
    {
     "data": {
      "text/plain": [
       "{'totalArticles': 773,\n",
       " 'articles': [{'title': 'Nova Scotia man charged in London sex trafficking investigation',\n",
       "   'description': 'Your Local News Network serving London, Windsor, Chatham, Sarnia and Midwestern Ontario',\n",
       "   'content': 'Cortez Downey, 26, of Nova Scotia. Photo courtesy of London police.\\nShare via: Facebook\\nTwitter\\nLinkedIn\\nMore\\nLondon police believe there could be more victims after a Nova Scotia man was arrested for sex trafficking women in the city this summer.\\nPo... [961 chars]',\n",
       "   'url': 'https://blackburnnews.com/london/london-news/2022/10/28/nova-scotia-man-charged-london-sex-trafficking-investigation/',\n",
       "   'image': 'https://blackburnnews.com/wp-content/uploads/2022/10/downey-400x250.png',\n",
       "   'publishedAt': '2022-10-28T11:35:44Z',\n",
       "   'source': {'name': 'BlackburnNews.com',\n",
       "    'url': 'https://blackburnnews.com'}},\n",
       "  {'title': 'Police seek more victims as man, 26, faces human-trafficking charges',\n",
       "   'description': 'A Nova Scotia man is facing human trafficking charges after police say they performed a welfare check on a woman allegedly being held against her will in the…',\n",
       "   'content': 'A Nova Scotia man is facing human trafficking charges after police say they performed a welfare check on a woman allegedly being held against her will in the south end of London.\\nA Nova Scotia man is facing human trafficking charges after police say ... [1509 chars]',\n",
       "   'url': 'https://lfpress.com/news/local-news/police-seek-more-victims-as-man-26-faces-human-trafficking-charges',\n",
       "   'image': 'https://smartcdn.gprod.postmedia.digital/lfpress/wp-content/uploads/2022/10/accused-e1666971172870.jpg',\n",
       "   'publishedAt': '2022-10-27T23:00:00Z',\n",
       "   'source': {'name': 'The London Free Press', 'url': 'https://lfpress.com'}},\n",
       "  {'title': 'Up to 20 children are potential victims of modern slavery as investigation underway',\n",
       "   'description': \"Trafford authority publishes 'zero tolerance' statement on human trafficking and exploitation\",\n",
       "   'content': \"Sign up for our daily newsletter to get the day's biggest stories sent direct to your inbox\\nUp to 20 children are potential victims of modern slavery in Trafford as town hall chiefs in Trafford have reiterated the authority's 'zero tolerance' stance ... [2280 chars]\",\n",
       "   'url': 'https://www.manchestereveningnews.co.uk/news/greater-manchester-news/up-20-children-potential-victims-25367946',\n",
       "   'image': 'https://i2-prod.walesonline.co.uk/news/uk-news/article25347149.ece/ALTERNATES/s1200/0_GettyImages-861200896.jpg',\n",
       "   'publishedAt': '2022-10-27T11:44:52Z',\n",
       "   'source': {'name': 'Manchester Evening News',\n",
       "    'url': 'https://www.manchestereveningnews.co.uk'}},\n",
       "  {'title': 'Drugs kingpin who led lavish lifestyle with girlfriend will have designer clothes sold off',\n",
       "   'description': \"Jonathan Walsh and Jodie Bowie's operation included trafficking and selling in Nottinghamshire\",\n",
       "   'content': 'A drugs lord who had an empire stretching into Nottinghamshire and used the proceeds of crime to lead a movie star lifestyle is to have thousands of pounds worth of his designer clothes sold off. A court was told that Jonathan Walsh scooped up £750,0... [3337 chars]',\n",
       "   'url': 'https://www.nottinghampost.com/news/nottingham-news/drugs-kingpin-who-led-lavish-7747288',\n",
       "   'image': 'https://i2-prod.nottinghampost.com/incoming/article7747292.ece/ALTERNATES/s1200/1_AWR_JONATHANWALSH_22022022.jpg',\n",
       "   'publishedAt': '2022-10-26T07:47:20Z',\n",
       "   'source': {'name': 'Nottinghamshire Live',\n",
       "    'url': 'https://www.nottinghampost.com'}},\n",
       "  {'title': '2022 could be worst year for modern slavery',\n",
       "   'description': 'The figures come as the British Standards Institute (BSI) launches its new world first national standard to help organisations across the UK eradicate modern slavery',\n",
       "   'content': 'Something went wrong, please try again later.\\nInvalid email Something went wrong, please try again later.\\nOur free email updates are the best way to get headlines direct to your inbox\\nClose to 8,000 people are said to have been victims of modern slav... [3818 chars]',\n",
       "   'url': 'https://www.nottinghampost.com/news/uk-world-news/2022-worst-year-modern-slavery-7742802',\n",
       "   'image': 'https://i2-prod.hulldailymail.co.uk/news/uk-world-news/article7742805.ece/ALTERNATES/s1200/0_GettyImages-861200896.jpg',\n",
       "   'publishedAt': '2022-10-25T09:34:50Z',\n",
       "   'source': {'name': 'Nottinghamshire Live',\n",
       "    'url': 'https://www.nottinghampost.com'}},\n",
       "  {'title': '2022 could be worst year for modern slavery',\n",
       "   'description': 'The figures come as the British Standards Institute (BSI) launches its new world first national standard to help organisations across the UK eradicate modern slavery',\n",
       "   'content': 'Something went wrong, please try again later.\\nInvalid email Something went wrong, please try again later.\\nGet the stories that matter to our community straight to your inbox with our Daily Newsletter\\nClose to 8,000 people are said to have been victim... [3834 chars]',\n",
       "   'url': 'https://www.plymouthherald.co.uk/news/uk-world-news/2022-worst-year-modern-slavery-7742802',\n",
       "   'image': 'https://i2-prod.hulldailymail.co.uk/news/uk-world-news/article7742805.ece/ALTERNATES/s1200/0_GettyImages-861200896.jpg',\n",
       "   'publishedAt': '2022-10-25T09:34:50Z',\n",
       "   'source': {'name': 'Plymouth Live',\n",
       "    'url': 'https://www.plymouthherald.co.uk'}},\n",
       "  {'title': '2022 could be worst year for modern slavery',\n",
       "   'description': 'The figures come as the British Standards Institute (BSI) launches its new world first national standard to help organisations across the UK eradicate modern slavery',\n",
       "   'content': \"Something went wrong, please try again later.\\nInvalid email Something went wrong, please try again later.\\nSign up for our daily newsletter to get the day's biggest stories sent direct to your inbox\\nClose to 8,000 people are said to have been victims ... [3832 chars]\",\n",
       "   'url': 'https://www.manchestereveningnews.co.uk/news/uk-news/2022-worst-year-modern-slavery-25347147',\n",
       "   'image': 'https://i2-prod.walesonline.co.uk/news/uk-news/article25347149.ece/ALTERNATES/s1200/0_GettyImages-861200896.jpg',\n",
       "   'publishedAt': '2022-10-25T09:34:31Z',\n",
       "   'source': {'name': 'Manchester Evening News',\n",
       "    'url': 'https://www.manchestereveningnews.co.uk'}},\n",
       "  {'title': '2022 could be worst year for modern slavery',\n",
       "   'description': 'The figures come as the British Standards Institute (BSI) launches its new world first national standard to help organisations across the UK eradicate modern slavery',\n",
       "   'content': 'Close to 8,000 people are said to have been victims of modern slavery in the UK in the first six months of 2022, according to a leading independent body.\\nSuch slavery includes a range of exploitative practices, from forced, compulsory, and child labo... [3634 chars]',\n",
       "   'url': 'https://www.liverpoolecho.co.uk/news/uk-world-news/2022-worst-year-modern-slavery-25347147',\n",
       "   'image': 'https://i2-prod.walesonline.co.uk/news/uk-news/article25347149.ece/ALTERNATES/s1200/0_GettyImages-861200896.jpg',\n",
       "   'publishedAt': '2022-10-25T09:34:31Z',\n",
       "   'source': {'name': 'Liverpool Echo',\n",
       "    'url': 'https://www.liverpoolecho.co.uk'}},\n",
       "  {'title': '2022 could be worst year for modern slavery',\n",
       "   'description': 'The figures come as the British Standards Institute (BSI) launches its new world first national standard to help organisations across the UK eradicate modern slavery',\n",
       "   'content': 'Something went wrong, please try again later.\\nInvalid email Something went wrong, please try again later.\\nNever miss breaking news by signing up to our free email updates\\nClose to 8,000 people are said to have been victims of modern slavery in the UK... [3805 chars]',\n",
       "   'url': 'https://www.birminghammail.co.uk/news/uk-news/2022-worst-year-modern-slavery-25347147',\n",
       "   'image': 'https://i2-prod.walesonline.co.uk/news/uk-news/article25347149.ece/ALTERNATES/s1200/0_GettyImages-861200896.jpg',\n",
       "   'publishedAt': '2022-10-25T09:34:31Z',\n",
       "   'source': {'name': 'Birmingham Live',\n",
       "    'url': 'https://www.birminghammail.co.uk'}},\n",
       "  {'title': \"EncroChat dealer 'boredgiraffe' made 'vast profits' trafficking multi-kilos of drugs\",\n",
       "   'description': '\"We will continue to target anyone involved in serious organised crime to keep this positive momentum going\"',\n",
       "   'content': 'A drug trafficker used the EncroChat handle \"boredgiraffe\" to flood Merseyside with huge quantities of cocaine and cannabis.\\nRyan Pugh was sentenced at Liverpool Crown Court after pleading guilty to conspiracy to supply multi-kilo quantities of Class... [1822 chars]',\n",
       "   'url': 'https://www.liverpoolecho.co.uk/news/liverpool-news/encrochat-dealer-boredgiraffe-made-vast-25338046',\n",
       "   'image': 'https://i2-prod.liverpoolecho.co.uk/incoming/article25338167.ece/ALTERNATES/s1200/0_image-63.jpg',\n",
       "   'publishedAt': '2022-10-24T08:41:59Z',\n",
       "   'source': {'name': 'Liverpool Echo',\n",
       "    'url': 'https://www.liverpoolecho.co.uk'}}]}"
      ]
     },
     "execution_count": 78,
     "metadata": {},
     "output_type": "execute_result"
    }
   ],
   "source": [
    "data"
   ]
  },
  {
   "cell_type": "markdown",
   "id": "8823a086",
   "metadata": {},
   "source": [
    "# DATES OF ARTICLES"
   ]
  },
  {
   "cell_type": "code",
   "execution_count": 83,
   "id": "bba03743",
   "metadata": {},
   "outputs": [
    {
     "data": {
      "text/plain": [
       "['2022-10-28',\n",
       " '2022-10-27',\n",
       " '2022-10-27',\n",
       " '2022-10-26',\n",
       " '2022-10-25',\n",
       " '2022-10-25',\n",
       " '2022-10-25',\n",
       " '2022-10-25',\n",
       " '2022-10-25',\n",
       " '2022-10-24']"
      ]
     },
     "execution_count": 83,
     "metadata": {},
     "output_type": "execute_result"
    }
   ],
   "source": [
    "from datetime import datetime as dt\n",
    "\n",
    "articles = data[\"articles\"]\n",
    "dates = []\n",
    "\n",
    "for article in articles:\n",
    "    dates.append(dt.strptime(article[\"publishedAt\"], \"%Y-%m-%dT%H:%M:%SZ\").strftime(\"%Y-%m-%d\"))\n",
    "    \n",
    "dates"
   ]
  }
 ],
 "metadata": {
  "kernelspec": {
   "display_name": "Python (honeycomb)",
   "language": "python",
   "name": "honeycomb"
  },
  "language_info": {
   "codemirror_mode": {
    "name": "ipython",
    "version": 3
   },
   "file_extension": ".py",
   "mimetype": "text/x-python",
   "name": "python",
   "nbconvert_exporter": "python",
   "pygments_lexer": "ipython3",
   "version": "3.8.12"
  }
 },
 "nbformat": 4,
 "nbformat_minor": 5
}
