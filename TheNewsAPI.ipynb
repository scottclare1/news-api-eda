{
 "cells": [
  {
   "cell_type": "markdown",
   "id": "8cece5e9",
   "metadata": {},
   "source": [
    "# The News API"
   ]
  },
  {
   "cell_type": "markdown",
   "id": "7e555944",
   "metadata": {},
   "source": [
    "# Resources\n",
    "\n",
    "https://www.thenewsapi.com/documentation\n",
    "\n",
    "# Params:\n",
    "\n",
    "search - keyword search functionality + signifies AND operation\n",
    "| signifies OR operation\n",
    "- negates a single token\n",
    "\" wraps a number of tokens to signify a phrase for searching\n",
    "* at the end of a term signifies a prefix query\n",
    "( and ) signify precedence.\n",
    "\n",
    "categories - comma separated list of categories to include general | science | sports | business | health | entertainment | tech | politics | food | travel.\n",
    "\n",
    "language - comma separated list of languages to include denoted by 2-letter country code.\n",
    "\n",
    "published_before - all articles published before specified date.\n",
    "\n",
    "published_after - all articles published after date.\n",
    "\n",
    "published_on - all articles published on specified date.\n",
    "\n",
    "sort - either published_on or relevance_score\n",
    "\n",
    "limit - the number articles to return in request based on plan.\n",
    "\n",
    "page - allows for paginating through result set (result set can’t exceed 20,000)\n",
    "\n",
    "# Response Output:\n",
    "\n",
    "title - title of article\n",
    "\n",
    "description - description of article\n",
    "\n",
    "keywords - list of keywords in article\n",
    "\n",
    "snippet - first 60 chars of body\n",
    "\n",
    "url - url of article\n",
    "\n",
    "language - language article written in\n",
    "\n",
    "published_at - date and time of article\n",
    "\n",
    "source - source of article\n",
    "\n",
    "categories - list of categories of news article\n",
    "\n",
    "relevance_score - 0 - 100 score of articles relevance to query\n",
    "\n",
    "locale - country code location of article "
   ]
  },
  {
   "cell_type": "code",
   "execution_count": 95,
   "id": "c696c267",
   "metadata": {},
   "outputs": [],
   "source": [
    "import requests\n",
    "from pprint import pprint\n",
    "from bs4 import BeautifulSoup\n",
    "from sentence_transformers import SentenceTransformer\n",
    "from scipy import spatial\n",
    "import matplotlib.pyplot as plt\n",
    "from requests.exceptions import ContentDecodingError\n",
    "import time\n",
    "import numpy as np"
   ]
  },
  {
   "cell_type": "code",
   "execution_count": 3,
   "id": "32e8ab46",
   "metadata": {},
   "outputs": [],
   "source": [
    "key = \"9EbPE6jg6LBxxRWnp4l0AWF2vw2b1tqlueUImKTr\""
   ]
  },
  {
   "cell_type": "code",
   "execution_count": 83,
   "id": "7c5dd7d9",
   "metadata": {},
   "outputs": [],
   "source": [
    "search_term = \"modern slavery\""
   ]
  },
  {
   "cell_type": "code",
   "execution_count": null,
   "id": "0edf172d",
   "metadata": {},
   "outputs": [],
   "source": [
    "search_url = \"https://api.thenewsapi.com/v1/news/top\"\n",
    "params = {\n",
    "    \"api_token\": key,\n",
    "    \"locale\": \"gb\",\n",
    "    \"language\": \"en\",\n",
    "    \"search\": search_term,\n",
    "    \"categories\": \"general\",\n",
    "    \"limit\": 5,\n",
    "    \"sort\": \"relevance_score\",\n",
    "    \"page\": 1\n",
    "}\n",
    "resposne = requests.get(search_url, params=params)\n",
    "search_results = resposne.json()"
   ]
  },
  {
   "cell_type": "markdown",
   "id": "a579e9a9",
   "metadata": {},
   "source": [
    "# Inspect output keys"
   ]
  },
  {
   "cell_type": "code",
   "execution_count": 96,
   "id": "e13e065b",
   "metadata": {},
   "outputs": [
    {
     "data": {
      "text/plain": [
       "dict_keys(['meta', 'data'])"
      ]
     },
     "execution_count": 96,
     "metadata": {},
     "output_type": "execute_result"
    }
   ],
   "source": [
    "search_results.keys()"
   ]
  },
  {
   "cell_type": "code",
   "execution_count": 97,
   "id": "4d0e0ab0",
   "metadata": {},
   "outputs": [
    {
     "data": {
      "text/plain": [
       "{'found': 115, 'returned': 5, 'limit': 5, 'page': 10}"
      ]
     },
     "execution_count": 97,
     "metadata": {},
     "output_type": "execute_result"
    }
   ],
   "source": [
    "search_results[\"meta\"]"
   ]
  },
  {
   "cell_type": "markdown",
   "id": "cd4b4fc8",
   "metadata": {},
   "source": [
    "# Inspect results"
   ]
  },
  {
   "cell_type": "code",
   "execution_count": 98,
   "id": "eb271fd4",
   "metadata": {},
   "outputs": [],
   "source": [
    "results = search_results[\"data\"]"
   ]
  },
  {
   "cell_type": "code",
   "execution_count": 101,
   "id": "508b4f5a",
   "metadata": {},
   "outputs": [
    {
     "name": "stdout",
     "output_type": "stream",
     "text": [
      "{'categories': ['general', 'business'],\n",
      " 'description': '',\n",
      " 'image_url': 'https://www.ft.com/__origami/service/image/v2/images/raw/https%3A%2F%2Fd1e00ek4ebabms.cloudfront.net%2Fproduction%2F738c03c0-a97d-4468-a38b-af509f9813b4.jpg?source=next-opengraph&fit=scale-down&width=900',\n",
      " 'keywords': '',\n",
      " 'language': 'en',\n",
      " 'locale': 'gb',\n",
      " 'published_at': '2022-06-08T22:43:22.000000Z',\n",
      " 'relevance_score': 14.974476,\n",
      " 'snippet': 'Harvard University president Lawrence Bacow announced that he is '\n",
      "            'stepping down from the role next June, marking a five-year tenure '\n",
      "            'that will be one of the short...',\n",
      " 'source': 'ft.com',\n",
      " 'title': 'Live news updates: Explosion at Texas LNG facility knocks gas '\n",
      "          'prices',\n",
      " 'url': 'https://www.ft.com/content/d16aafd1-9c3f-4c23-b967-467ca18f97ce',\n",
      " 'uuid': 'df8927ec-60c1-4301-b428-d109a4cf5ccd'}\n"
     ]
    }
   ],
   "source": [
    "pprint(results[0])"
   ]
  },
  {
   "cell_type": "code",
   "execution_count": 102,
   "id": "e2ab2b42",
   "metadata": {},
   "outputs": [
    {
     "name": "stdout",
     "output_type": "stream",
     "text": [
      "['uuid', 'keywords', 'title', 'snippet', 'relevance_score', 'image_url', 'source', 'locale', 'description', 'url', 'language', 'categories', 'published_at']\n"
     ]
    }
   ],
   "source": [
    "metadata = []\n",
    "for result in results:\n",
    "    metadata.append(list(result.keys()))\n",
    "print(list(set([a for b in metadata for a in b])))"
   ]
  },
  {
   "cell_type": "markdown",
   "id": "5ecbe098",
   "metadata": {},
   "source": [
    "# Inspect descriptions"
   ]
  },
  {
   "cell_type": "code",
   "execution_count": 85,
   "id": "da398b0b",
   "metadata": {},
   "outputs": [
    {
     "name": "stdout",
     "output_type": "stream",
     "text": [
      "Lauren Crosby Medlicott speaks to modern slavery experts to understand the impact of Priti Patel's Home Office on victims\n",
      "The two commissioners say setting a time limit for claims fails to take into account the trauma suffered by those subjected to abuse\n",
      "They are our best source of intelligence and vital to putting criminals behind bars, but this Bill would deter them from cooperating.\n",
      "The number of people forced into modern forms of slavery by poverty and other crises has risen by a fifth in recent years to around 50 million on any given day,...\n",
      "\n",
      "An investigation by the Byline Intelligence Team raises questions about the Home Secretary's claims that criminals are 'clogging up' the system to support victi...\n",
      "New data on children in need reveals the scale of criminal and sexual exploitation of children – so why does the Government see modern slavery as an issue for...\n",
      "\n",
      "Sian Norris considers the implications of Suella Braverman's potential plans for migrant people crossing the Channel, with insights from experts\n",
      "Sian Norris considers the implications of Suella Braverman's potential plans for migrant people crossing the Channel, with insights from experts\n",
      "Brad Blitz and Alexandra Lewis explain how Russia’s mass deportation of Ukrainians is not an accident, but central to the ‘Ru.Lag’ – the Kremlin’s new...\n",
      "One woman, who spoke to Sky News under the condition of anonymity, told her story about how she became involved with the gang at the age of 18.\n",
      "Clare College renames site known as ‘The Colony’ following concerns that the moniker carries unfortunate connotations\n",
      "\n",
      "\n",
      "Successive Home Secretaries have made ending modern slavery a priority – but new clauses in the Nationality and Borders Bill could make identifying victims ha...\n",
      "Peter Swailes admitted the slavery charge after a disabled man was exploited for decades.\n",
      "Peter Swailes admitted the slavery charge after a disabled man was exploited for decades.\n",
      "Hand car washes in Great Yarmouth, Norwich and King's Lynn in Norfolk are being investigated due to staff potentially being exploited.\n",
      "The Byline Intelligence Team take a look at how media reporting on immigration and asylum can spread misinformation about the weaponised issue\n",
      "'Be alert to what's going on and don't think that it can't happen in Wales. Anybody could be a victim and every child is vulnerable'\n",
      "This International Women's Day, the Byline Intelligence Team reveal the number of women and girls victimised by sexual exploitation being reported to the Home O...\n",
      "\n",
      "Peter Swailes admitted the offence after the man was made to live in an outbuilding for 40 years.\n",
      "Record numbers of children and young people are being registered with the National Referral Mechanism as suspected victims of modern slavery, but a Sky News inv...\n",
      "The US State Department recommends that the UK Government does more to ensure trafficking victims are not criminalised – but experts warn that would require s...\n",
      "The victim, known only as Chris, has shared his account after a man was handed a nine-month suspended sentence today for paying him below the minimum wage.\n",
      "Beatrice Nwanneka Ekweremadu, 55, and Ike Ekweremadu, 60, have been remanded in custody and will appear at Uxbridge Magistrates' Court today.\n",
      "The victim, then in his late 50s, told police he worked on farms, painting, slating and tarmacking, and was paid as little as £10 per day.\n",
      "CJ Werleman explores another aspect of the extreme Hindu-nationalist project persecuting religious minorities in India\n",
      "As Wiltshire Police kit up for the new season we find out how it is big business in China.\n",
      "Around 70 criminal networks supplying heroin, cocaine and crack from London were shut down by the Metropolitan Police during a week of action beginning on 3 Oct...\n",
      "The victim was paid as little as £10 per day while the family dog had a nicer shed\n",
      "Sky News investigated organised sexual abuse in the city and spoke to one young woman who claimed she had recognised an officer who sexually abused her as a chi...\n",
      "The decision has been labelled 'unacceptable' by anti-smoking campaigners\n",
      "Speaking on The View for ABC, the New York-based actress, 66, said: 'Let us not forget when we talk about what needs to happen, all the folks that need to apolo...\n",
      "Suella Braverman, in her first speech as home secretary, received a standing ovation at the Conservative Party conference after promising to stop the illegal mi...\n",
      "Chief inspector of borders and immigration says some absconded from asylum hotels, putting national security at risk\n",
      "A Chinese labour camp survivor is preparing to sue the trade secretary for allowing cotton imports from Xinjiang. Erbakit Otarbay has spoken out despite warning...\n",
      "Further details enclosed.\n",
      "Before their visit, a reparations commission wrote an open letter criticising the Royal Family for past comments on slavery and said: \"We are not simpletons.\"\n",
      "\n",
      "British interior minister Suella Braverman will set out plans on Tuesday for new powers which would ban migrants who cross the English Channel from claiming asy...\n",
      "Post-Brexit immigration rules are pushing more and more foreign fishermen to the margins of an already exploitative system, reports Frankie Vetch\n",
      "The victim, known only as Chris, has shared his account after a man was handed a nine-month suspended sentence today for paying him below the minimum wage.\n",
      "\n",
      "Further details enclosed.\n",
      "Maros Tancos and Joanna Gomulska trafficked at least 29 vulnerable people to the UK after promising them a better life. In reality, the victims were kept as \"p...\n",
      "Further details enclosed.\n",
      "Undoubtedly, Britain played a terrible part in the 17th and 18th-century history of slavery. Its act later ensured sweeping political and societal change.\n"
     ]
    }
   ],
   "source": [
    "search_url = \"https://api.thenewsapi.com/v1/news/top\"\n",
    "all_descriptions = []\n",
    "for page in np.arange(1, 11, 1):\n",
    "    params = {\n",
    "        \"api_token\": key,\n",
    "        \"locale\": \"gb\",\n",
    "        \"language\": \"en\",\n",
    "        \"search\": search_term,\n",
    "        \"categories\": \"general\",\n",
    "        \"limit\": 5,\n",
    "        \"sort\": \"relevance_score\",\n",
    "        \"page\": page\n",
    "    }\n",
    "    resposne = requests.get(search_url, params=params)\n",
    "    search_results = resposne.json()\n",
    "    results = search_results[\"data\"]\n",
    "    response_descriptions = []\n",
    "    for result in results:\n",
    "        print(result[\"description\"])\n",
    "        response_descriptions.append(result[\"description\"])\n",
    "    time.sleep(1)\n",
    "    all_descriptions.append(response_descriptions)"
   ]
  },
  {
   "cell_type": "code",
   "execution_count": 92,
   "id": "9bd95b06",
   "metadata": {},
   "outputs": [],
   "source": [
    "all_descriptions = [a for b in all_descriptions for a in b]"
   ]
  },
  {
   "cell_type": "code",
   "execution_count": 93,
   "id": "2507266c",
   "metadata": {},
   "outputs": [],
   "source": [
    "len_description = [len(x) for x in all_descriptions]"
   ]
  },
  {
   "cell_type": "code",
   "execution_count": 94,
   "id": "e1b4eb4e",
   "metadata": {},
   "outputs": [
    {
     "data": {
      "image/png": "[encoded data removed]",
      "text/plain": [
       "<Figure size 432x288 with 1 Axes>"
      ]
     },
     "metadata": {
      "needs_background": "light"
     },
     "output_type": "display_data"
    }
   ],
   "source": [
    "plt.hist(len_description, bins=20)\n",
    "plt.show()"
   ]
  },
  {
   "cell_type": "markdown",
   "id": "a8b82213",
   "metadata": {},
   "source": [
    "# Try and get article content"
   ]
  },
  {
   "cell_type": "code",
   "execution_count": 100,
   "id": "eb9a2c30",
   "metadata": {},
   "outputs": [],
   "source": [
    "def get_text_from_url(url, description):\n",
    "    try:\n",
    "        page = requests.get(url)\n",
    "        \n",
    "        soup = BeautifulSoup(page.content, \"html.parser\")\n",
    "        for script in soup([\"script\", \"style\"]):\n",
    "            script.extract()\n",
    "\n",
    "        text = soup.get_text()\n",
    "\n",
    "        lines = (line.strip() for line in text.splitlines())\n",
    "\n",
    "        chunks = (phrase.strip() for line in lines for phrase in line.split(\"  \"))\n",
    "\n",
    "        text = '\\n'.join(chunk for chunk in chunks if chunk)\n",
    "\n",
    "        clean_text = []\n",
    "\n",
    "        for line in text.splitlines():\n",
    "            if len(line) > 30:\n",
    "                sentences = [description, line]\n",
    "                embeddings = model.encode(sentences)\n",
    "                result = 1 - spatial.distance.cosine(embeddings[0], embeddings[1])\n",
    "                if result > 0.25:\n",
    "                    clean_text.append(line)\n",
    "\n",
    "\n",
    "        text = \". \".join(clean_text)\n",
    "        return text\n",
    "    \n",
    "    except ContentDecodingError:\n",
    "        pass"
   ]
  },
  {
   "cell_type": "code",
   "execution_count": 103,
   "id": "0626a68f",
   "metadata": {},
   "outputs": [
    {
     "name": "stdout",
     "output_type": "stream",
     "text": [
      "\n",
      "--------------------------------------------------------------\n",
      "\n",
      "--------------------------------------------------------------\n",
      "Couple who kept slaves in Bristol house known as 'gate to hell' are jailed | UK News | Sky News. Couple who kept slaves in Bristol house known as 'gate to hell' are jailed. Maros Tancos and Joanna Gomulska trafficked at least 29 vulnerable people to the UK after promising them a better life. In reality, the victims were kept as \"prisoners\" in a property, forced to work without pay and any wages were spent by the couple on cars and gambling.. Joanna Gomulska and Maros Tancos trafficked at least 29 vulnerable people to the UK. Pic: NCA. A couple have been jailed for a total of 25 years after keeping modern slaves in \"squalor\" in a Bristol house dubbed the \"gate to hell\".Maros Tancos and Joanna Gomulska trafficked at least 29 vulnerable people to the UK, some of whom had been raised in orphanages in Slovakia, after promising them a better life.In reality, they were kept as \"prisoners\" in the property and faced beatings and death threats.Victims were made to work for free at Tancos' car wash business in Bristol before going to other jobs at night, with the couple spending their victims' wages on cars and gambling.One victim was forced to work at the car wash with a broken arm, while another fled after falling pregnant and gave birth to a baby who was malnourished.Prosecutors said the \"truly harrowing case\" spanned nearly a decade, with victims \"subjected to a life of misery to line the pockets of two ruthless individuals\".Tancos, 45, and 46-year-old Gomulska were sentenced at Bristol Crown Court on Wednesday after they were convicted of modern slavery offences in April following a three-month trial.Tancos was jailed for 16 years and Gomulska was given a nine-year prison sentence.. Tancos (pictured) and Gomulska were convicted of modern slavery offences in April. Pic: NCA. Gomulska and her partner Tancos were described as 'ruthless individuals'. Pic: NCA. 'Multiple accounts of violence'Mark Morrison, senior investigating officer at the National Crime Agency (NCA), told Sky News the victims were living in \"squalor\" at the Bristol house, with dirty mattresses on the floor and \"disgusting, filthy carpets, blankets and bedding\".The victims - aged from their late teens to their 30s - were mostly men and unable to speak English, including one who was threatened with being killed if he tried to escape.The three-bedroom house would have up to 10 people living in it at a time, with Tancos and Gomulska locking them inside when the couple went out.. The living conditions of victims in Bristol. Pic: NCA. Mr Morrison said: \"There are multiple accounts of violence against them with beatings.\"The mental anguish that these men and women have gone through is absolutely abhorrent.\"Tancos, originally from Slovakia, had links to children's homes in his home country and had a \"ready supply\" of vulnerable victims, Mr Morrison said.. Some victims lived in these conditions in Slovakia and were promised a better life in the UK. Pic: NCA. The squalid living conditions of some victims in Slovakia before they moved to the UK. Pic: NCA. How the traffickers were caughtVictims were brought to the UK from Slovakia and Hungary on the promise of a better life but were under the control of Tancos and Gomulska from the moment they arrived, according to the Crown Prosecution Service.Tancos had told his victims they could keep half of their wages each month, whilst the other half would be kept for rent and board.In reality, victims received no money and their earnings were spent by the defendants.The couple took victims' ID documents, phones and bank cards, and opened their bank accounts with them, as well as applying for loans and credit cards in their names.Between 2010 and 2017, almost £300,000 was transferred from the victims' accounts, the NCA said.Tancos also failed to pay his victims £923,000 at the car wash - the amount they would have earned had they received minimum wage over the period of the offending, the agency added.. The NCA was first alerted by authorities in Slovakia in 2017 that one of its citizens had \"escaped from servitude\" from an address in Bristol, Mr Morrison said.It prompted an investigation in February 2017 and Tancos and Gomulska were arrested in July that year.Five victims - all Slovakian men - were found inside the property on the day of the arrests.'Never-ending cycle of abuse'Senior specialist prosecutor Ruona Iguyovwe said: \"This is a truly harrowing case of exploitation spanning nearly a decade, where people were trafficked and subjected to a life of misery to line the pockets of two ruthless individuals.\"Referring to the house as a 'gate to hell', one victim's account shows how they felt trapped, unable to seek help without identity documents, locked in the house and threatened.\"NCA branch commander Colin Williams said Tancos and Gomulska \"treated their victims as possessions, exploiting their hope of a better life for themselves and their families to keep them in a never-ending cycle of abuse\".\"They were prisoners,\" he added. \"The experiences they shared in court showed how mentally broken the couple left them.\"These people came from impoverished backgrounds to the UK with optimism, but instead had their vulnerability taken advantage of.\"Whilst they suffered, Tancos and Gomulska spent their victims' wages on gambling and cars.\"\n",
      "--------------------------------------------------------------\n",
      "\n",
      "--------------------------------------------------------------\n",
      "\n",
      "--------------------------------------------------------------\n"
     ]
    }
   ],
   "source": [
    "for result in results:\n",
    "    description = result[\"description\"]\n",
    "    url = result[\"url\"]\n",
    "    print(get_text_from_url(url, description))\n",
    "    print(\"--------------------------------------------------------------\")"
   ]
  }
 ],
 "metadata": {
  "kernelspec": {
   "display_name": "Python 3 (ipykernel)",
   "language": "python",
   "name": "python3"
  },
  "language_info": {
   "codemirror_mode": {
    "name": "ipython",
    "version": 3
   },
   "file_extension": ".py",
   "mimetype": "text/x-python",
   "name": "python",
   "nbconvert_exporter": "python",
   "pygments_lexer": "ipython3",
   "version": "3.8.13"
  }
 },
 "nbformat": 4,
 "nbformat_minor": 5
}
